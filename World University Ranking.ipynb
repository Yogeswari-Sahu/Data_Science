{
 "cells": [
  {
   "cell_type": "code",
   "execution_count": 1,
   "metadata": {},
   "outputs": [],
   "source": [
    "import numpy as np\n",
    "import seaborn as sns\n",
    "import pandas as pd\n",
    "import matplotlib.pyplot as plt\n",
    "%matplotlib inline"
   ]
  },
  {
   "cell_type": "code",
   "execution_count": 2,
   "metadata": {},
   "outputs": [],
   "source": [
    "df=pd.read_csv(\"C:/Users/YOGESWARI/Downloads/world university rankings/timesdata.csv\")\n",
    "df1=pd.read_csv(\"C:/Users/YOGESWARI/Downloads/world university rankings/cwurData.csv\")"
   ]
  },
  {
   "cell_type": "code",
   "execution_count": 3,
   "metadata": {},
   "outputs": [
    {
     "data": {
      "text/html": [
       "<div>\n",
       "<style scoped>\n",
       "    .dataframe tbody tr th:only-of-type {\n",
       "        vertical-align: middle;\n",
       "    }\n",
       "\n",
       "    .dataframe tbody tr th {\n",
       "        vertical-align: top;\n",
       "    }\n",
       "\n",
       "    .dataframe thead th {\n",
       "        text-align: right;\n",
       "    }\n",
       "</style>\n",
       "<table border=\"1\" class=\"dataframe\">\n",
       "  <thead>\n",
       "    <tr style=\"text-align: right;\">\n",
       "      <th></th>\n",
       "      <th>world_rank</th>\n",
       "      <th>university_name</th>\n",
       "      <th>country</th>\n",
       "      <th>teaching</th>\n",
       "      <th>international</th>\n",
       "      <th>research</th>\n",
       "      <th>citations</th>\n",
       "      <th>income</th>\n",
       "      <th>total_score</th>\n",
       "      <th>num_students</th>\n",
       "      <th>student_staff_ratio</th>\n",
       "      <th>international_students</th>\n",
       "      <th>female_male_ratio</th>\n",
       "      <th>year</th>\n",
       "    </tr>\n",
       "  </thead>\n",
       "  <tbody>\n",
       "    <tr>\n",
       "      <td>0</td>\n",
       "      <td>1</td>\n",
       "      <td>Harvard University</td>\n",
       "      <td>United States of America</td>\n",
       "      <td>99.7</td>\n",
       "      <td>72.4</td>\n",
       "      <td>98.7</td>\n",
       "      <td>98.8</td>\n",
       "      <td>34.5</td>\n",
       "      <td>96.1</td>\n",
       "      <td>20,152</td>\n",
       "      <td>8.9</td>\n",
       "      <td>25%</td>\n",
       "      <td>NaN</td>\n",
       "      <td>2011</td>\n",
       "    </tr>\n",
       "    <tr>\n",
       "      <td>1</td>\n",
       "      <td>2</td>\n",
       "      <td>California Institute of Technology</td>\n",
       "      <td>United States of America</td>\n",
       "      <td>97.7</td>\n",
       "      <td>54.6</td>\n",
       "      <td>98.0</td>\n",
       "      <td>99.9</td>\n",
       "      <td>83.7</td>\n",
       "      <td>96.0</td>\n",
       "      <td>2,243</td>\n",
       "      <td>6.9</td>\n",
       "      <td>27%</td>\n",
       "      <td>33 : 67</td>\n",
       "      <td>2011</td>\n",
       "    </tr>\n",
       "    <tr>\n",
       "      <td>2</td>\n",
       "      <td>3</td>\n",
       "      <td>Massachusetts Institute of Technology</td>\n",
       "      <td>United States of America</td>\n",
       "      <td>97.8</td>\n",
       "      <td>82.3</td>\n",
       "      <td>91.4</td>\n",
       "      <td>99.9</td>\n",
       "      <td>87.5</td>\n",
       "      <td>95.6</td>\n",
       "      <td>11,074</td>\n",
       "      <td>9.0</td>\n",
       "      <td>33%</td>\n",
       "      <td>37 : 63</td>\n",
       "      <td>2011</td>\n",
       "    </tr>\n",
       "    <tr>\n",
       "      <td>3</td>\n",
       "      <td>4</td>\n",
       "      <td>Stanford University</td>\n",
       "      <td>United States of America</td>\n",
       "      <td>98.3</td>\n",
       "      <td>29.5</td>\n",
       "      <td>98.1</td>\n",
       "      <td>99.2</td>\n",
       "      <td>64.3</td>\n",
       "      <td>94.3</td>\n",
       "      <td>15,596</td>\n",
       "      <td>7.8</td>\n",
       "      <td>22%</td>\n",
       "      <td>42 : 58</td>\n",
       "      <td>2011</td>\n",
       "    </tr>\n",
       "    <tr>\n",
       "      <td>4</td>\n",
       "      <td>5</td>\n",
       "      <td>Princeton University</td>\n",
       "      <td>United States of America</td>\n",
       "      <td>90.9</td>\n",
       "      <td>70.3</td>\n",
       "      <td>95.4</td>\n",
       "      <td>99.9</td>\n",
       "      <td>-</td>\n",
       "      <td>94.2</td>\n",
       "      <td>7,929</td>\n",
       "      <td>8.4</td>\n",
       "      <td>27%</td>\n",
       "      <td>45 : 55</td>\n",
       "      <td>2011</td>\n",
       "    </tr>\n",
       "  </tbody>\n",
       "</table>\n",
       "</div>"
      ],
      "text/plain": [
       "  world_rank                        university_name                   country  \\\n",
       "0          1                     Harvard University  United States of America   \n",
       "1          2     California Institute of Technology  United States of America   \n",
       "2          3  Massachusetts Institute of Technology  United States of America   \n",
       "3          4                    Stanford University  United States of America   \n",
       "4          5                   Princeton University  United States of America   \n",
       "\n",
       "   teaching international  research  citations income total_score  \\\n",
       "0      99.7          72.4      98.7       98.8   34.5        96.1   \n",
       "1      97.7          54.6      98.0       99.9   83.7        96.0   \n",
       "2      97.8          82.3      91.4       99.9   87.5        95.6   \n",
       "3      98.3          29.5      98.1       99.2   64.3        94.3   \n",
       "4      90.9          70.3      95.4       99.9      -        94.2   \n",
       "\n",
       "  num_students  student_staff_ratio international_students female_male_ratio  \\\n",
       "0       20,152                  8.9                    25%               NaN   \n",
       "1        2,243                  6.9                    27%           33 : 67   \n",
       "2       11,074                  9.0                    33%           37 : 63   \n",
       "3       15,596                  7.8                    22%           42 : 58   \n",
       "4        7,929                  8.4                    27%           45 : 55   \n",
       "\n",
       "   year  \n",
       "0  2011  \n",
       "1  2011  \n",
       "2  2011  \n",
       "3  2011  \n",
       "4  2011  "
      ]
     },
     "execution_count": 3,
     "metadata": {},
     "output_type": "execute_result"
    }
   ],
   "source": [
    "df.head()"
   ]
  },
  {
   "cell_type": "code",
   "execution_count": 4,
   "metadata": {},
   "outputs": [
    {
     "data": {
      "text/html": [
       "<div>\n",
       "<style scoped>\n",
       "    .dataframe tbody tr th:only-of-type {\n",
       "        vertical-align: middle;\n",
       "    }\n",
       "\n",
       "    .dataframe tbody tr th {\n",
       "        vertical-align: top;\n",
       "    }\n",
       "\n",
       "    .dataframe thead th {\n",
       "        text-align: right;\n",
       "    }\n",
       "</style>\n",
       "<table border=\"1\" class=\"dataframe\">\n",
       "  <thead>\n",
       "    <tr style=\"text-align: right;\">\n",
       "      <th></th>\n",
       "      <th>world_rank</th>\n",
       "      <th>institution</th>\n",
       "      <th>country</th>\n",
       "      <th>national_rank</th>\n",
       "      <th>quality_of_education</th>\n",
       "      <th>alumni_employment</th>\n",
       "      <th>quality_of_faculty</th>\n",
       "      <th>publications</th>\n",
       "      <th>influence</th>\n",
       "      <th>citations</th>\n",
       "      <th>broad_impact</th>\n",
       "      <th>patents</th>\n",
       "      <th>score</th>\n",
       "      <th>year</th>\n",
       "    </tr>\n",
       "  </thead>\n",
       "  <tbody>\n",
       "    <tr>\n",
       "      <td>0</td>\n",
       "      <td>1</td>\n",
       "      <td>Harvard University</td>\n",
       "      <td>USA</td>\n",
       "      <td>1</td>\n",
       "      <td>7</td>\n",
       "      <td>9</td>\n",
       "      <td>1</td>\n",
       "      <td>1</td>\n",
       "      <td>1</td>\n",
       "      <td>1</td>\n",
       "      <td>NaN</td>\n",
       "      <td>5</td>\n",
       "      <td>100.00</td>\n",
       "      <td>2012</td>\n",
       "    </tr>\n",
       "    <tr>\n",
       "      <td>1</td>\n",
       "      <td>2</td>\n",
       "      <td>Massachusetts Institute of Technology</td>\n",
       "      <td>USA</td>\n",
       "      <td>2</td>\n",
       "      <td>9</td>\n",
       "      <td>17</td>\n",
       "      <td>3</td>\n",
       "      <td>12</td>\n",
       "      <td>4</td>\n",
       "      <td>4</td>\n",
       "      <td>NaN</td>\n",
       "      <td>1</td>\n",
       "      <td>91.67</td>\n",
       "      <td>2012</td>\n",
       "    </tr>\n",
       "    <tr>\n",
       "      <td>2</td>\n",
       "      <td>3</td>\n",
       "      <td>Stanford University</td>\n",
       "      <td>USA</td>\n",
       "      <td>3</td>\n",
       "      <td>17</td>\n",
       "      <td>11</td>\n",
       "      <td>5</td>\n",
       "      <td>4</td>\n",
       "      <td>2</td>\n",
       "      <td>2</td>\n",
       "      <td>NaN</td>\n",
       "      <td>15</td>\n",
       "      <td>89.50</td>\n",
       "      <td>2012</td>\n",
       "    </tr>\n",
       "    <tr>\n",
       "      <td>3</td>\n",
       "      <td>4</td>\n",
       "      <td>University of Cambridge</td>\n",
       "      <td>United Kingdom</td>\n",
       "      <td>1</td>\n",
       "      <td>10</td>\n",
       "      <td>24</td>\n",
       "      <td>4</td>\n",
       "      <td>16</td>\n",
       "      <td>16</td>\n",
       "      <td>11</td>\n",
       "      <td>NaN</td>\n",
       "      <td>50</td>\n",
       "      <td>86.17</td>\n",
       "      <td>2012</td>\n",
       "    </tr>\n",
       "    <tr>\n",
       "      <td>4</td>\n",
       "      <td>5</td>\n",
       "      <td>California Institute of Technology</td>\n",
       "      <td>USA</td>\n",
       "      <td>4</td>\n",
       "      <td>2</td>\n",
       "      <td>29</td>\n",
       "      <td>7</td>\n",
       "      <td>37</td>\n",
       "      <td>22</td>\n",
       "      <td>22</td>\n",
       "      <td>NaN</td>\n",
       "      <td>18</td>\n",
       "      <td>85.21</td>\n",
       "      <td>2012</td>\n",
       "    </tr>\n",
       "  </tbody>\n",
       "</table>\n",
       "</div>"
      ],
      "text/plain": [
       "   world_rank                            institution         country  \\\n",
       "0           1                     Harvard University             USA   \n",
       "1           2  Massachusetts Institute of Technology             USA   \n",
       "2           3                    Stanford University             USA   \n",
       "3           4                University of Cambridge  United Kingdom   \n",
       "4           5     California Institute of Technology             USA   \n",
       "\n",
       "   national_rank  quality_of_education  alumni_employment  quality_of_faculty  \\\n",
       "0              1                     7                  9                   1   \n",
       "1              2                     9                 17                   3   \n",
       "2              3                    17                 11                   5   \n",
       "3              1                    10                 24                   4   \n",
       "4              4                     2                 29                   7   \n",
       "\n",
       "   publications  influence  citations  broad_impact  patents   score  year  \n",
       "0             1          1          1           NaN        5  100.00  2012  \n",
       "1            12          4          4           NaN        1   91.67  2012  \n",
       "2             4          2          2           NaN       15   89.50  2012  \n",
       "3            16         16         11           NaN       50   86.17  2012  \n",
       "4            37         22         22           NaN       18   85.21  2012  "
      ]
     },
     "execution_count": 4,
     "metadata": {},
     "output_type": "execute_result"
    }
   ],
   "source": [
    "df1.head()"
   ]
  },
  {
   "cell_type": "code",
   "execution_count": 5,
   "metadata": {},
   "outputs": [
    {
     "data": {
      "text/html": [
       "<div>\n",
       "<style scoped>\n",
       "    .dataframe tbody tr th:only-of-type {\n",
       "        vertical-align: middle;\n",
       "    }\n",
       "\n",
       "    .dataframe tbody tr th {\n",
       "        vertical-align: top;\n",
       "    }\n",
       "\n",
       "    .dataframe thead th {\n",
       "        text-align: right;\n",
       "    }\n",
       "</style>\n",
       "<table border=\"1\" class=\"dataframe\">\n",
       "  <thead>\n",
       "    <tr style=\"text-align: right;\">\n",
       "      <th></th>\n",
       "      <th>teaching</th>\n",
       "      <th>research</th>\n",
       "      <th>citations</th>\n",
       "      <th>student_staff_ratio</th>\n",
       "      <th>year</th>\n",
       "    </tr>\n",
       "  </thead>\n",
       "  <tbody>\n",
       "    <tr>\n",
       "      <td>count</td>\n",
       "      <td>2603.000000</td>\n",
       "      <td>2603.000000</td>\n",
       "      <td>2603.000000</td>\n",
       "      <td>2544.000000</td>\n",
       "      <td>2603.000000</td>\n",
       "    </tr>\n",
       "    <tr>\n",
       "      <td>mean</td>\n",
       "      <td>37.801498</td>\n",
       "      <td>35.910257</td>\n",
       "      <td>60.921629</td>\n",
       "      <td>18.445283</td>\n",
       "      <td>2014.075682</td>\n",
       "    </tr>\n",
       "    <tr>\n",
       "      <td>std</td>\n",
       "      <td>17.604218</td>\n",
       "      <td>21.254805</td>\n",
       "      <td>23.073219</td>\n",
       "      <td>11.458698</td>\n",
       "      <td>1.685733</td>\n",
       "    </tr>\n",
       "    <tr>\n",
       "      <td>min</td>\n",
       "      <td>9.900000</td>\n",
       "      <td>2.900000</td>\n",
       "      <td>1.200000</td>\n",
       "      <td>0.600000</td>\n",
       "      <td>2011.000000</td>\n",
       "    </tr>\n",
       "    <tr>\n",
       "      <td>25%</td>\n",
       "      <td>24.700000</td>\n",
       "      <td>19.600000</td>\n",
       "      <td>45.500000</td>\n",
       "      <td>11.975000</td>\n",
       "      <td>2013.000000</td>\n",
       "    </tr>\n",
       "    <tr>\n",
       "      <td>50%</td>\n",
       "      <td>33.900000</td>\n",
       "      <td>30.500000</td>\n",
       "      <td>62.500000</td>\n",
       "      <td>16.100000</td>\n",
       "      <td>2014.000000</td>\n",
       "    </tr>\n",
       "    <tr>\n",
       "      <td>75%</td>\n",
       "      <td>46.400000</td>\n",
       "      <td>47.250000</td>\n",
       "      <td>79.050000</td>\n",
       "      <td>21.500000</td>\n",
       "      <td>2016.000000</td>\n",
       "    </tr>\n",
       "    <tr>\n",
       "      <td>max</td>\n",
       "      <td>99.700000</td>\n",
       "      <td>99.400000</td>\n",
       "      <td>100.000000</td>\n",
       "      <td>162.600000</td>\n",
       "      <td>2016.000000</td>\n",
       "    </tr>\n",
       "  </tbody>\n",
       "</table>\n",
       "</div>"
      ],
      "text/plain": [
       "          teaching     research    citations  student_staff_ratio         year\n",
       "count  2603.000000  2603.000000  2603.000000          2544.000000  2603.000000\n",
       "mean     37.801498    35.910257    60.921629            18.445283  2014.075682\n",
       "std      17.604218    21.254805    23.073219            11.458698     1.685733\n",
       "min       9.900000     2.900000     1.200000             0.600000  2011.000000\n",
       "25%      24.700000    19.600000    45.500000            11.975000  2013.000000\n",
       "50%      33.900000    30.500000    62.500000            16.100000  2014.000000\n",
       "75%      46.400000    47.250000    79.050000            21.500000  2016.000000\n",
       "max      99.700000    99.400000   100.000000           162.600000  2016.000000"
      ]
     },
     "execution_count": 5,
     "metadata": {},
     "output_type": "execute_result"
    }
   ],
   "source": [
    "df.describe()"
   ]
  },
  {
   "cell_type": "code",
   "execution_count": 6,
   "metadata": {},
   "outputs": [
    {
     "data": {
      "text/html": [
       "<div>\n",
       "<style scoped>\n",
       "    .dataframe tbody tr th:only-of-type {\n",
       "        vertical-align: middle;\n",
       "    }\n",
       "\n",
       "    .dataframe tbody tr th {\n",
       "        vertical-align: top;\n",
       "    }\n",
       "\n",
       "    .dataframe thead th {\n",
       "        text-align: right;\n",
       "    }\n",
       "</style>\n",
       "<table border=\"1\" class=\"dataframe\">\n",
       "  <thead>\n",
       "    <tr style=\"text-align: right;\">\n",
       "      <th></th>\n",
       "      <th>world_rank</th>\n",
       "      <th>national_rank</th>\n",
       "      <th>quality_of_education</th>\n",
       "      <th>alumni_employment</th>\n",
       "      <th>quality_of_faculty</th>\n",
       "      <th>publications</th>\n",
       "      <th>influence</th>\n",
       "      <th>citations</th>\n",
       "      <th>broad_impact</th>\n",
       "      <th>patents</th>\n",
       "      <th>score</th>\n",
       "      <th>year</th>\n",
       "    </tr>\n",
       "  </thead>\n",
       "  <tbody>\n",
       "    <tr>\n",
       "      <td>count</td>\n",
       "      <td>2200.000000</td>\n",
       "      <td>2200.000000</td>\n",
       "      <td>2200.000000</td>\n",
       "      <td>2200.000000</td>\n",
       "      <td>2200.000000</td>\n",
       "      <td>2200.000000</td>\n",
       "      <td>2200.000000</td>\n",
       "      <td>2200.000000</td>\n",
       "      <td>2000.000000</td>\n",
       "      <td>2200.000000</td>\n",
       "      <td>2200.000000</td>\n",
       "      <td>2200.000000</td>\n",
       "    </tr>\n",
       "    <tr>\n",
       "      <td>mean</td>\n",
       "      <td>459.590909</td>\n",
       "      <td>40.278182</td>\n",
       "      <td>275.100455</td>\n",
       "      <td>357.116818</td>\n",
       "      <td>178.888182</td>\n",
       "      <td>459.908636</td>\n",
       "      <td>459.797727</td>\n",
       "      <td>413.417273</td>\n",
       "      <td>496.699500</td>\n",
       "      <td>433.346364</td>\n",
       "      <td>47.798395</td>\n",
       "      <td>2014.318182</td>\n",
       "    </tr>\n",
       "    <tr>\n",
       "      <td>std</td>\n",
       "      <td>304.320363</td>\n",
       "      <td>51.740870</td>\n",
       "      <td>121.935100</td>\n",
       "      <td>186.779252</td>\n",
       "      <td>64.050885</td>\n",
       "      <td>303.760352</td>\n",
       "      <td>303.331822</td>\n",
       "      <td>264.366549</td>\n",
       "      <td>286.919755</td>\n",
       "      <td>273.996525</td>\n",
       "      <td>7.760806</td>\n",
       "      <td>0.762130</td>\n",
       "    </tr>\n",
       "    <tr>\n",
       "      <td>min</td>\n",
       "      <td>1.000000</td>\n",
       "      <td>1.000000</td>\n",
       "      <td>1.000000</td>\n",
       "      <td>1.000000</td>\n",
       "      <td>1.000000</td>\n",
       "      <td>1.000000</td>\n",
       "      <td>1.000000</td>\n",
       "      <td>1.000000</td>\n",
       "      <td>1.000000</td>\n",
       "      <td>1.000000</td>\n",
       "      <td>43.360000</td>\n",
       "      <td>2012.000000</td>\n",
       "    </tr>\n",
       "    <tr>\n",
       "      <td>25%</td>\n",
       "      <td>175.750000</td>\n",
       "      <td>6.000000</td>\n",
       "      <td>175.750000</td>\n",
       "      <td>175.750000</td>\n",
       "      <td>175.750000</td>\n",
       "      <td>175.750000</td>\n",
       "      <td>175.750000</td>\n",
       "      <td>161.000000</td>\n",
       "      <td>250.500000</td>\n",
       "      <td>170.750000</td>\n",
       "      <td>44.460000</td>\n",
       "      <td>2014.000000</td>\n",
       "    </tr>\n",
       "    <tr>\n",
       "      <td>50%</td>\n",
       "      <td>450.500000</td>\n",
       "      <td>21.000000</td>\n",
       "      <td>355.000000</td>\n",
       "      <td>450.500000</td>\n",
       "      <td>210.000000</td>\n",
       "      <td>450.500000</td>\n",
       "      <td>450.500000</td>\n",
       "      <td>406.000000</td>\n",
       "      <td>496.000000</td>\n",
       "      <td>426.000000</td>\n",
       "      <td>45.100000</td>\n",
       "      <td>2014.000000</td>\n",
       "    </tr>\n",
       "    <tr>\n",
       "      <td>75%</td>\n",
       "      <td>725.250000</td>\n",
       "      <td>49.000000</td>\n",
       "      <td>367.000000</td>\n",
       "      <td>478.000000</td>\n",
       "      <td>218.000000</td>\n",
       "      <td>725.000000</td>\n",
       "      <td>725.250000</td>\n",
       "      <td>645.000000</td>\n",
       "      <td>741.000000</td>\n",
       "      <td>714.250000</td>\n",
       "      <td>47.545000</td>\n",
       "      <td>2015.000000</td>\n",
       "    </tr>\n",
       "    <tr>\n",
       "      <td>max</td>\n",
       "      <td>1000.000000</td>\n",
       "      <td>229.000000</td>\n",
       "      <td>367.000000</td>\n",
       "      <td>567.000000</td>\n",
       "      <td>218.000000</td>\n",
       "      <td>1000.000000</td>\n",
       "      <td>991.000000</td>\n",
       "      <td>812.000000</td>\n",
       "      <td>1000.000000</td>\n",
       "      <td>871.000000</td>\n",
       "      <td>100.000000</td>\n",
       "      <td>2015.000000</td>\n",
       "    </tr>\n",
       "  </tbody>\n",
       "</table>\n",
       "</div>"
      ],
      "text/plain": [
       "        world_rank  national_rank  quality_of_education  alumni_employment  \\\n",
       "count  2200.000000    2200.000000           2200.000000        2200.000000   \n",
       "mean    459.590909      40.278182            275.100455         357.116818   \n",
       "std     304.320363      51.740870            121.935100         186.779252   \n",
       "min       1.000000       1.000000              1.000000           1.000000   \n",
       "25%     175.750000       6.000000            175.750000         175.750000   \n",
       "50%     450.500000      21.000000            355.000000         450.500000   \n",
       "75%     725.250000      49.000000            367.000000         478.000000   \n",
       "max    1000.000000     229.000000            367.000000         567.000000   \n",
       "\n",
       "       quality_of_faculty  publications    influence    citations  \\\n",
       "count         2200.000000   2200.000000  2200.000000  2200.000000   \n",
       "mean           178.888182    459.908636   459.797727   413.417273   \n",
       "std             64.050885    303.760352   303.331822   264.366549   \n",
       "min              1.000000      1.000000     1.000000     1.000000   \n",
       "25%            175.750000    175.750000   175.750000   161.000000   \n",
       "50%            210.000000    450.500000   450.500000   406.000000   \n",
       "75%            218.000000    725.000000   725.250000   645.000000   \n",
       "max            218.000000   1000.000000   991.000000   812.000000   \n",
       "\n",
       "       broad_impact      patents        score         year  \n",
       "count   2000.000000  2200.000000  2200.000000  2200.000000  \n",
       "mean     496.699500   433.346364    47.798395  2014.318182  \n",
       "std      286.919755   273.996525     7.760806     0.762130  \n",
       "min        1.000000     1.000000    43.360000  2012.000000  \n",
       "25%      250.500000   170.750000    44.460000  2014.000000  \n",
       "50%      496.000000   426.000000    45.100000  2014.000000  \n",
       "75%      741.000000   714.250000    47.545000  2015.000000  \n",
       "max     1000.000000   871.000000   100.000000  2015.000000  "
      ]
     },
     "execution_count": 6,
     "metadata": {},
     "output_type": "execute_result"
    }
   ],
   "source": [
    "df1.describe()"
   ]
  },
  {
   "cell_type": "code",
   "execution_count": 9,
   "metadata": {},
   "outputs": [
    {
     "data": {
      "text/plain": [
       "2016    800\n",
       "2012    402\n",
       "2015    401\n",
       "2013    400\n",
       "2014    400\n",
       "2011    200\n",
       "Name: year, dtype: int64"
      ]
     },
     "execution_count": 9,
     "metadata": {},
     "output_type": "execute_result"
    }
   ],
   "source": [
    "df[\"year\"].value_counts()"
   ]
  },
  {
   "cell_type": "code",
   "execution_count": 10,
   "metadata": {},
   "outputs": [
    {
     "data": {
      "image/png": "[encoded data removed]",
      "text/plain": [
       "<Figure size 720x720 with 1 Axes>"
      ]
     },
     "metadata": {
      "needs_background": "light"
     },
     "output_type": "display_data"
    }
   ],
   "source": [
    "ins_count = df[df['year'] == 2016].groupby('country').size().sort_values(ascending = False)\n",
    "plt.figure(figsize = (10,10))\n",
    "ax = sns.barplot(x = ins_count.values, y = ins_count.index)\n",
    "ax.set(xlabel = 'Country', ylabel = 'Number of Institution')\n",
    "for i in ax.patches:\n",
    "    ax.text(i.get_width()+1.0, i.get_y()+0.7,i.get_width().astype(int))\n",
    "plt.show()"
   ]
  },
  {
   "cell_type": "code",
   "execution_count": 11,
   "metadata": {},
   "outputs": [],
   "source": [
    "df2=df.groupby(df[\"year\"])"
   ]
  },
  {
   "cell_type": "code",
   "execution_count": 12,
   "metadata": {},
   "outputs": [],
   "source": [
    "df2012= df1[df1['year']==2012]\n",
    "df2013= df1[df1['year']==2013]\n",
    "df2014= df1[df1['year']==2014]\n",
    "df2015= df1[df1['year']==2015]"
   ]
  },
  {
   "cell_type": "code",
   "execution_count": 13,
   "metadata": {},
   "outputs": [
    {
     "name": "stderr",
     "output_type": "stream",
     "text": [
      "C:\\Users\\YOGESWARI\\Anaconda3\\lib\\site-packages\\pandas\\core\\frame.py:4102: SettingWithCopyWarning: \n",
      "A value is trying to be set on a copy of a slice from a DataFrame\n",
      "\n",
      "See the caveats in the documentation: http://pandas.pydata.org/pandas-docs/stable/user_guide/indexing.html#returning-a-view-versus-a-copy\n",
      "  errors=errors,\n"
     ]
    }
   ],
   "source": [
    "df2012.drop('year',axis=1,inplace=True)\n",
    "df2013.drop('year',axis=1,inplace=True)\n",
    "df2014.drop('year',axis=1,inplace=True)\n",
    "df2015.drop('year',axis=1,inplace=True)"
   ]
  },
  {
   "cell_type": "code",
   "execution_count": 14,
   "metadata": {},
   "outputs": [
    {
     "data": {
      "text/html": [
       "<div>\n",
       "<style scoped>\n",
       "    .dataframe tbody tr th:only-of-type {\n",
       "        vertical-align: middle;\n",
       "    }\n",
       "\n",
       "    .dataframe tbody tr th {\n",
       "        vertical-align: top;\n",
       "    }\n",
       "\n",
       "    .dataframe thead th {\n",
       "        text-align: right;\n",
       "    }\n",
       "</style>\n",
       "<table border=\"1\" class=\"dataframe\">\n",
       "  <thead>\n",
       "    <tr style=\"text-align: right;\">\n",
       "      <th></th>\n",
       "      <th>world_rank</th>\n",
       "      <th>national_rank</th>\n",
       "      <th>quality_of_education</th>\n",
       "      <th>alumni_employment</th>\n",
       "      <th>quality_of_faculty</th>\n",
       "      <th>publications</th>\n",
       "      <th>influence</th>\n",
       "      <th>citations</th>\n",
       "      <th>broad_impact</th>\n",
       "      <th>patents</th>\n",
       "      <th>score</th>\n",
       "    </tr>\n",
       "  </thead>\n",
       "  <tbody>\n",
       "    <tr>\n",
       "      <td>world_rank</td>\n",
       "      <td>1.000000</td>\n",
       "      <td>0.207617</td>\n",
       "      <td>0.577612</td>\n",
       "      <td>0.586218</td>\n",
       "      <td>0.572304</td>\n",
       "      <td>0.907588</td>\n",
       "      <td>0.876108</td>\n",
       "      <td>0.823055</td>\n",
       "      <td>0.947204</td>\n",
       "      <td>0.639701</td>\n",
       "      <td>-0.554571</td>\n",
       "    </tr>\n",
       "    <tr>\n",
       "      <td>national_rank</td>\n",
       "      <td>0.207617</td>\n",
       "      <td>1.000000</td>\n",
       "      <td>0.170368</td>\n",
       "      <td>0.078447</td>\n",
       "      <td>0.171665</td>\n",
       "      <td>0.303851</td>\n",
       "      <td>0.123909</td>\n",
       "      <td>0.158244</td>\n",
       "      <td>0.181568</td>\n",
       "      <td>0.104223</td>\n",
       "      <td>-0.176447</td>\n",
       "    </tr>\n",
       "    <tr>\n",
       "      <td>quality_of_education</td>\n",
       "      <td>0.577612</td>\n",
       "      <td>0.170368</td>\n",
       "      <td>1.000000</td>\n",
       "      <td>0.473653</td>\n",
       "      <td>0.685989</td>\n",
       "      <td>0.521378</td>\n",
       "      <td>0.549574</td>\n",
       "      <td>0.521067</td>\n",
       "      <td>0.517966</td>\n",
       "      <td>0.386652</td>\n",
       "      <td>-0.595771</td>\n",
       "    </tr>\n",
       "    <tr>\n",
       "      <td>alumni_employment</td>\n",
       "      <td>0.586218</td>\n",
       "      <td>0.078447</td>\n",
       "      <td>0.473653</td>\n",
       "      <td>1.000000</td>\n",
       "      <td>0.390605</td>\n",
       "      <td>0.476797</td>\n",
       "      <td>0.418218</td>\n",
       "      <td>0.449119</td>\n",
       "      <td>0.428065</td>\n",
       "      <td>0.398035</td>\n",
       "      <td>-0.480756</td>\n",
       "    </tr>\n",
       "    <tr>\n",
       "      <td>quality_of_faculty</td>\n",
       "      <td>0.572304</td>\n",
       "      <td>0.171665</td>\n",
       "      <td>0.685989</td>\n",
       "      <td>0.390605</td>\n",
       "      <td>1.000000</td>\n",
       "      <td>0.537166</td>\n",
       "      <td>0.570487</td>\n",
       "      <td>0.559989</td>\n",
       "      <td>0.553277</td>\n",
       "      <td>0.418088</td>\n",
       "      <td>-0.708048</td>\n",
       "    </tr>\n",
       "    <tr>\n",
       "      <td>publications</td>\n",
       "      <td>0.907588</td>\n",
       "      <td>0.303851</td>\n",
       "      <td>0.521378</td>\n",
       "      <td>0.476797</td>\n",
       "      <td>0.537166</td>\n",
       "      <td>1.000000</td>\n",
       "      <td>0.845110</td>\n",
       "      <td>0.788885</td>\n",
       "      <td>0.918436</td>\n",
       "      <td>0.616911</td>\n",
       "      <td>-0.521738</td>\n",
       "    </tr>\n",
       "    <tr>\n",
       "      <td>influence</td>\n",
       "      <td>0.876108</td>\n",
       "      <td>0.123909</td>\n",
       "      <td>0.549574</td>\n",
       "      <td>0.418218</td>\n",
       "      <td>0.570487</td>\n",
       "      <td>0.845110</td>\n",
       "      <td>1.000000</td>\n",
       "      <td>0.808917</td>\n",
       "      <td>0.913889</td>\n",
       "      <td>0.548654</td>\n",
       "      <td>-0.522732</td>\n",
       "    </tr>\n",
       "    <tr>\n",
       "      <td>citations</td>\n",
       "      <td>0.823055</td>\n",
       "      <td>0.158244</td>\n",
       "      <td>0.521067</td>\n",
       "      <td>0.449119</td>\n",
       "      <td>0.559989</td>\n",
       "      <td>0.788885</td>\n",
       "      <td>0.808917</td>\n",
       "      <td>1.000000</td>\n",
       "      <td>0.850637</td>\n",
       "      <td>0.518144</td>\n",
       "      <td>-0.517301</td>\n",
       "    </tr>\n",
       "    <tr>\n",
       "      <td>broad_impact</td>\n",
       "      <td>0.947204</td>\n",
       "      <td>0.181568</td>\n",
       "      <td>0.517966</td>\n",
       "      <td>0.428065</td>\n",
       "      <td>0.553277</td>\n",
       "      <td>0.918436</td>\n",
       "      <td>0.913889</td>\n",
       "      <td>0.850637</td>\n",
       "      <td>1.000000</td>\n",
       "      <td>0.580644</td>\n",
       "      <td>-0.527617</td>\n",
       "    </tr>\n",
       "    <tr>\n",
       "      <td>patents</td>\n",
       "      <td>0.639701</td>\n",
       "      <td>0.104223</td>\n",
       "      <td>0.386652</td>\n",
       "      <td>0.398035</td>\n",
       "      <td>0.418088</td>\n",
       "      <td>0.616911</td>\n",
       "      <td>0.548654</td>\n",
       "      <td>0.518144</td>\n",
       "      <td>0.580644</td>\n",
       "      <td>1.000000</td>\n",
       "      <td>-0.454706</td>\n",
       "    </tr>\n",
       "    <tr>\n",
       "      <td>score</td>\n",
       "      <td>-0.554571</td>\n",
       "      <td>-0.176447</td>\n",
       "      <td>-0.595771</td>\n",
       "      <td>-0.480756</td>\n",
       "      <td>-0.708048</td>\n",
       "      <td>-0.521738</td>\n",
       "      <td>-0.522732</td>\n",
       "      <td>-0.517301</td>\n",
       "      <td>-0.527617</td>\n",
       "      <td>-0.454706</td>\n",
       "      <td>1.000000</td>\n",
       "    </tr>\n",
       "  </tbody>\n",
       "</table>\n",
       "</div>"
      ],
      "text/plain": [
       "                      world_rank  national_rank  quality_of_education  \\\n",
       "world_rank              1.000000       0.207617              0.577612   \n",
       "national_rank           0.207617       1.000000              0.170368   \n",
       "quality_of_education    0.577612       0.170368              1.000000   \n",
       "alumni_employment       0.586218       0.078447              0.473653   \n",
       "quality_of_faculty      0.572304       0.171665              0.685989   \n",
       "publications            0.907588       0.303851              0.521378   \n",
       "influence               0.876108       0.123909              0.549574   \n",
       "citations               0.823055       0.158244              0.521067   \n",
       "broad_impact            0.947204       0.181568              0.517966   \n",
       "patents                 0.639701       0.104223              0.386652   \n",
       "score                  -0.554571      -0.176447             -0.595771   \n",
       "\n",
       "                      alumni_employment  quality_of_faculty  publications  \\\n",
       "world_rank                     0.586218            0.572304      0.907588   \n",
       "national_rank                  0.078447            0.171665      0.303851   \n",
       "quality_of_education           0.473653            0.685989      0.521378   \n",
       "alumni_employment              1.000000            0.390605      0.476797   \n",
       "quality_of_faculty             0.390605            1.000000      0.537166   \n",
       "publications                   0.476797            0.537166      1.000000   \n",
       "influence                      0.418218            0.570487      0.845110   \n",
       "citations                      0.449119            0.559989      0.788885   \n",
       "broad_impact                   0.428065            0.553277      0.918436   \n",
       "patents                        0.398035            0.418088      0.616911   \n",
       "score                         -0.480756           -0.708048     -0.521738   \n",
       "\n",
       "                      influence  citations  broad_impact   patents     score  \n",
       "world_rank             0.876108   0.823055      0.947204  0.639701 -0.554571  \n",
       "national_rank          0.123909   0.158244      0.181568  0.104223 -0.176447  \n",
       "quality_of_education   0.549574   0.521067      0.517966  0.386652 -0.595771  \n",
       "alumni_employment      0.418218   0.449119      0.428065  0.398035 -0.480756  \n",
       "quality_of_faculty     0.570487   0.559989      0.553277  0.418088 -0.708048  \n",
       "publications           0.845110   0.788885      0.918436  0.616911 -0.521738  \n",
       "influence              1.000000   0.808917      0.913889  0.548654 -0.522732  \n",
       "citations              0.808917   1.000000      0.850637  0.518144 -0.517301  \n",
       "broad_impact           0.913889   0.850637      1.000000  0.580644 -0.527617  \n",
       "patents                0.548654   0.518144      0.580644  1.000000 -0.454706  \n",
       "score                 -0.522732  -0.517301     -0.527617 -0.454706  1.000000  "
      ]
     },
     "execution_count": 14,
     "metadata": {},
     "output_type": "execute_result"
    }
   ],
   "source": [
    "df2015.corr()"
   ]
  },
  {
   "cell_type": "code",
   "execution_count": 15,
   "metadata": {},
   "outputs": [
    {
     "data": {
      "text/plain": [
       "<seaborn.axisgrid.JointGrid at 0x24be8357b08>"
      ]
     },
     "execution_count": 15,
     "metadata": {},
     "output_type": "execute_result"
    },
    {
     "data": {
      "image/png": "[encoded data removed]",
      "text/plain": [
       "<Figure size 432x432 with 3 Axes>"
      ]
     },
     "metadata": {
      "needs_background": "light"
     },
     "output_type": "display_data"
    }
   ],
   "source": [
    "sns.jointplot(x='score',y='quality_of_education',data=df2015)"
   ]
  },
  {
   "cell_type": "code",
   "execution_count": 20,
   "metadata": {},
   "outputs": [],
   "source": [
    "df2016=df[df[\"year\"]==2016]"
   ]
  },
  {
   "cell_type": "code",
   "execution_count": 21,
   "metadata": {},
   "outputs": [],
   "source": [
    "ssr=[]\n",
    "nus=[]\n",
    "for i in range(0,800,100):\n",
    "    ssr.append(df2016.iloc[i:i+200][\"student_staff_ratio\"].mean())\n",
    "    nus.append(df2016.iloc[i:i+200][\"teaching\"].mean())\n",
    "    #ts.append(df.iloc[i:i+200][\"total_score\"].mean()))"
   ]
  },
  {
   "cell_type": "code",
   "execution_count": 23,
   "metadata": {},
   "outputs": [
    {
     "data": {
      "text/html": [
       "<div>\n",
       "<style scoped>\n",
       "    .dataframe tbody tr th:only-of-type {\n",
       "        vertical-align: middle;\n",
       "    }\n",
       "\n",
       "    .dataframe tbody tr th {\n",
       "        vertical-align: top;\n",
       "    }\n",
       "\n",
       "    .dataframe thead th {\n",
       "        text-align: right;\n",
       "    }\n",
       "</style>\n",
       "<table border=\"1\" class=\"dataframe\">\n",
       "  <thead>\n",
       "    <tr style=\"text-align: right;\">\n",
       "      <th></th>\n",
       "      <th>index</th>\n",
       "      <th>country</th>\n",
       "    </tr>\n",
       "  </thead>\n",
       "  <tbody>\n",
       "    <tr>\n",
       "      <td>0</td>\n",
       "      <td>United States of America</td>\n",
       "      <td>146</td>\n",
       "    </tr>\n",
       "    <tr>\n",
       "      <td>1</td>\n",
       "      <td>United Kingdom</td>\n",
       "      <td>77</td>\n",
       "    </tr>\n",
       "    <tr>\n",
       "      <td>2</td>\n",
       "      <td>Japan</td>\n",
       "      <td>41</td>\n",
       "    </tr>\n",
       "    <tr>\n",
       "      <td>3</td>\n",
       "      <td>Germany</td>\n",
       "      <td>37</td>\n",
       "    </tr>\n",
       "    <tr>\n",
       "      <td>4</td>\n",
       "      <td>China</td>\n",
       "      <td>37</td>\n",
       "    </tr>\n",
       "    <tr>\n",
       "      <td>...</td>\n",
       "      <td>...</td>\n",
       "      <td>...</td>\n",
       "    </tr>\n",
       "    <tr>\n",
       "      <td>67</td>\n",
       "      <td>Qatar</td>\n",
       "      <td>1</td>\n",
       "    </tr>\n",
       "    <tr>\n",
       "      <td>68</td>\n",
       "      <td>Indonesia</td>\n",
       "      <td>1</td>\n",
       "    </tr>\n",
       "    <tr>\n",
       "      <td>69</td>\n",
       "      <td>Kenya</td>\n",
       "      <td>1</td>\n",
       "    </tr>\n",
       "    <tr>\n",
       "      <td>70</td>\n",
       "      <td>Nigeria</td>\n",
       "      <td>1</td>\n",
       "    </tr>\n",
       "    <tr>\n",
       "      <td>71</td>\n",
       "      <td>Unisted States of America</td>\n",
       "      <td>1</td>\n",
       "    </tr>\n",
       "  </tbody>\n",
       "</table>\n",
       "<p>72 rows × 2 columns</p>\n",
       "</div>"
      ],
      "text/plain": [
       "                        index  country\n",
       "0    United States of America      146\n",
       "1              United Kingdom       77\n",
       "2                       Japan       41\n",
       "3                     Germany       37\n",
       "4                       China       37\n",
       "..                        ...      ...\n",
       "67                      Qatar        1\n",
       "68                  Indonesia        1\n",
       "69                      Kenya        1\n",
       "70                    Nigeria        1\n",
       "71  Unisted States of America        1\n",
       "\n",
       "[72 rows x 2 columns]"
      ]
     },
     "execution_count": 23,
     "metadata": {},
     "output_type": "execute_result"
    }
   ],
   "source": [
    "df2016[\"country\"].value_counts().reset_index()"
   ]
  },
  {
   "cell_type": "code",
   "execution_count": 25,
   "metadata": {},
   "outputs": [],
   "source": [
    "index=np.arange(1,9)\n"
   ]
  },
  {
   "cell_type": "code",
   "execution_count": 26,
   "metadata": {},
   "outputs": [
    {
     "data": {
      "text/plain": [
       "Text(0, 0.5, 'Student_staff_ratio')"
      ]
     },
     "execution_count": 26,
     "metadata": {},
     "output_type": "execute_result"
    },
    {
     "data": {
      "image/png": "[encoded data removed]",
      "text/plain": [
       "<Figure size 432x288 with 1 Axes>"
      ]
     },
     "metadata": {
      "needs_background": "light"
     },
     "output_type": "display_data"
    }
   ],
   "source": [
    "plt.bar(index,ssr)\n",
    "plt.xlabel(\"Rankings in scale of 100\")\n",
    "plt.ylabel(\"Student_staff_ratio\")"
   ]
  },
  {
   "cell_type": "code",
   "execution_count": 27,
   "metadata": {},
   "outputs": [
    {
     "data": {
      "image/png": "[encoded data removed]",
      "text/plain": [
       "<Figure size 864x432 with 2 Axes>"
      ]
     },
     "metadata": {
      "needs_background": "light"
     },
     "output_type": "display_data"
    }
   ],
   "source": [
    "plt.figure(figsize=(12,6))\n",
    "df2015new= df2015.set_index(keys=df2015['institution'])\n",
    "fig= sns.heatmap(df2015new.drop(['institution','country'],axis=1),cmap='coolwarm')\n",
    "plt.tight_layout()"
   ]
  },
  {
   "cell_type": "code",
   "execution_count": 28,
   "metadata": {},
   "outputs": [],
   "source": [
    "from sklearn.model_selection import train_test_split"
   ]
  },
  {
   "cell_type": "code",
   "execution_count": 29,
   "metadata": {},
   "outputs": [
    {
     "data": {
      "text/plain": [
       "world_rank                 0\n",
       "university_name            0\n",
       "country                    0\n",
       "teaching                   0\n",
       "international              0\n",
       "research                   0\n",
       "citations                  0\n",
       "income                     0\n",
       "total_score                0\n",
       "num_students               7\n",
       "student_staff_ratio        7\n",
       "international_students    10\n",
       "female_male_ratio         61\n",
       "year                       0\n",
       "dtype: int64"
      ]
     },
     "execution_count": 29,
     "metadata": {},
     "output_type": "execute_result"
    }
   ],
   "source": [
    "df2016.isnull().sum()"
   ]
  },
  {
   "cell_type": "code",
   "execution_count": 30,
   "metadata": {},
   "outputs": [
    {
     "data": {
      "text/plain": [
       "world_rank                  0\n",
       "university_name             0\n",
       "country                     0\n",
       "teaching                    0\n",
       "international               0\n",
       "research                    0\n",
       "citations                   0\n",
       "income                     37\n",
       "total_score               600\n",
       "num_students                0\n",
       "student_staff_ratio         0\n",
       "international_students      0\n",
       "female_male_ratio           3\n",
       "year                        0\n",
       "dtype: int64"
      ]
     },
     "execution_count": 30,
     "metadata": {},
     "output_type": "execute_result"
    }
   ],
   "source": [
    "df2016.isin(['-']).sum()"
   ]
  },
  {
   "cell_type": "code",
   "execution_count": 81,
   "metadata": {},
   "outputs": [
    {
     "name": "stderr",
     "output_type": "stream",
     "text": [
      "C:\\Users\\YOGESWARI\\Anaconda3\\lib\\site-packages\\pandas\\core\\generic.py:6287: SettingWithCopyWarning: \n",
      "A value is trying to be set on a copy of a slice from a DataFrame\n",
      "\n",
      "See the caveats in the documentation: http://pandas.pydata.org/pandas-docs/stable/user_guide/indexing.html#returning-a-view-versus-a-copy\n",
      "  self._update_inplace(new_data)\n"
     ]
    }
   ],
   "source": [
    "df2016[\"student_staff_ratio\"].fillna(method=\"ffill\",inplace=True)"
   ]
  },
  {
   "cell_type": "code",
   "execution_count": 82,
   "metadata": {},
   "outputs": [],
   "source": [
    "df2016[\"international_students\"].fillna(method=\"ffill\",inplace=True)"
   ]
  },
  {
   "cell_type": "code",
   "execution_count": 83,
   "metadata": {},
   "outputs": [
    {
     "data": {
      "text/html": [
       "<div>\n",
       "<style scoped>\n",
       "    .dataframe tbody tr th:only-of-type {\n",
       "        vertical-align: middle;\n",
       "    }\n",
       "\n",
       "    .dataframe tbody tr th {\n",
       "        vertical-align: top;\n",
       "    }\n",
       "\n",
       "    .dataframe thead th {\n",
       "        text-align: right;\n",
       "    }\n",
       "</style>\n",
       "<table border=\"1\" class=\"dataframe\">\n",
       "  <thead>\n",
       "    <tr style=\"text-align: right;\">\n",
       "      <th></th>\n",
       "      <th>university_name</th>\n",
       "      <th>country</th>\n",
       "      <th>teaching</th>\n",
       "      <th>international</th>\n",
       "      <th>research</th>\n",
       "      <th>citations</th>\n",
       "      <th>income</th>\n",
       "      <th>total_score</th>\n",
       "      <th>num_students</th>\n",
       "      <th>student_staff_ratio</th>\n",
       "      <th>international_students</th>\n",
       "      <th>female_male_ratio</th>\n",
       "      <th>year</th>\n",
       "    </tr>\n",
       "  </thead>\n",
       "  <tbody>\n",
       "  </tbody>\n",
       "</table>\n",
       "</div>"
      ],
      "text/plain": [
       "Empty DataFrame\n",
       "Columns: [university_name, country, teaching, international, research, citations, income, total_score, num_students, student_staff_ratio, international_students, female_male_ratio, year]\n",
       "Index: []"
      ]
     },
     "execution_count": 83,
     "metadata": {},
     "output_type": "execute_result"
    }
   ],
   "source": [
    "df2016[df2016[\"student_staff_ratio\"].isnull()]"
   ]
  },
  {
   "cell_type": "code",
   "execution_count": 84,
   "metadata": {},
   "outputs": [],
   "source": [
    "df2016[\"num_students\"].fillna(method=\"ffill\",inplace=True)"
   ]
  },
  {
   "cell_type": "code",
   "execution_count": 85,
   "metadata": {},
   "outputs": [],
   "source": [
    "df2016[\"income\"].fillna(method=\"ffill\",inplace=True)"
   ]
  },
  {
   "cell_type": "code",
   "execution_count": 86,
   "metadata": {},
   "outputs": [],
   "source": [
    "X= df2015.drop(['institution','country','world_rank','score'],axis=1)\n",
    "y= df2015['score']"
   ]
  },
  {
   "cell_type": "markdown",
   "metadata": {},
   "source": [
    "# Linear Regression"
   ]
  },
  {
   "cell_type": "code",
   "execution_count": 87,
   "metadata": {},
   "outputs": [],
   "source": [
    "X_train, X_test, y_train, y_test = train_test_split(X, y, test_size=0.3)"
   ]
  },
  {
   "cell_type": "code",
   "execution_count": 88,
   "metadata": {},
   "outputs": [],
   "source": [
    "from sklearn.linear_model import LinearRegression"
   ]
  },
  {
   "cell_type": "code",
   "execution_count": 89,
   "metadata": {},
   "outputs": [],
   "source": [
    "lm= LinearRegression()"
   ]
  },
  {
   "cell_type": "code",
   "execution_count": 90,
   "metadata": {},
   "outputs": [
    {
     "data": {
      "text/plain": [
       "LinearRegression(copy_X=True, fit_intercept=True, n_jobs=None, normalize=False)"
      ]
     },
     "execution_count": 90,
     "metadata": {},
     "output_type": "execute_result"
    }
   ],
   "source": [
    "lm.fit(X_train,y_train)"
   ]
  },
  {
   "cell_type": "code",
   "execution_count": 91,
   "metadata": {},
   "outputs": [],
   "source": [
    "pred= lm.predict(X_test)"
   ]
  },
  {
   "cell_type": "code",
   "execution_count": 92,
   "metadata": {},
   "outputs": [],
   "source": [
    "from sklearn import metrics\n",
    "from sklearn.metrics import classification_report,confusion_matrix"
   ]
  },
  {
   "cell_type": "code",
   "execution_count": 93,
   "metadata": {},
   "outputs": [
    {
     "data": {
      "text/plain": [
       "<matplotlib.collections.PathCollection at 0x24bea6d89c8>"
      ]
     },
     "execution_count": 93,
     "metadata": {},
     "output_type": "execute_result"
    },
    {
     "data": {
      "image/png": "[encoded data removed]",
      "text/plain": [
       "<Figure size 432x288 with 1 Axes>"
      ]
     },
     "metadata": {
      "needs_background": "light"
     },
     "output_type": "display_data"
    }
   ],
   "source": [
    "plt.scatter(y_test,pred)"
   ]
  },
  {
   "cell_type": "code",
   "execution_count": 99,
   "metadata": {},
   "outputs": [
    {
     "data": {
      "text/plain": [
       "<matplotlib.axes._subplots.AxesSubplot at 0x24bea855708>"
      ]
     },
     "execution_count": 99,
     "metadata": {},
     "output_type": "execute_result"
    },
    {
     "data": {
      "image/png": "[encoded data removed]",
      "text/plain": [
       "<Figure size 432x288 with 1 Axes>"
      ]
     },
     "metadata": {
      "needs_background": "light"
     },
     "output_type": "display_data"
    }
   ],
   "source": [
    "sns.distplot((y_test-pred),bins=80)"
   ]
  },
  {
   "cell_type": "code",
   "execution_count": 100,
   "metadata": {},
   "outputs": [
    {
     "name": "stdout",
     "output_type": "stream",
     "text": [
      "MAE: 2.0465535029700237\n",
      "MSE: 19.31095988152647\n",
      "RMSE: 4.394423725760463\n"
     ]
    }
   ],
   "source": [
    "print('MAE:', metrics.mean_absolute_error(y_test, pred))\n",
    "print('MSE:', metrics.mean_squared_error(y_test, pred))\n",
    "print('RMSE:', np.sqrt(metrics.mean_squared_error(y_test, pred)))"
   ]
  },
  {
   "cell_type": "code",
   "execution_count": 102,
   "metadata": {},
   "outputs": [
    {
     "data": {
      "text/plain": [
       "0.5811225679682639"
      ]
     },
     "execution_count": 102,
     "metadata": {},
     "output_type": "execute_result"
    }
   ],
   "source": [
    "lm.score(X_test, y_test)"
   ]
  }
 ],
 "metadata": {
  "kernelspec": {
   "display_name": "Python 3",
   "language": "python",
   "name": "python3"
  },
  "language_info": {
   "codemirror_mode": {
    "name": "ipython",
    "version": 3
   },
   "file_extension": ".py",
   "mimetype": "text/x-python",
   "name": "python",
   "nbconvert_exporter": "python",
   "pygments_lexer": "ipython3",
   "version": "3.7.4"
  }
 },
 "nbformat": 4,
 "nbformat_minor": 2
}
